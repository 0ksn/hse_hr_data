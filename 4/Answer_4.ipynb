{
 "cells": [
  {
   "cell_type": "markdown",
   "id": "749d449f",
   "metadata": {},
   "source": [
    "# HW SQL"
   ]
  },
  {
   "cell_type": "code",
   "execution_count": 7,
   "id": "dcccfd79",
   "metadata": {},
   "outputs": [],
   "source": [
    "import sqlite3\n",
    "import pandas as pd"
   ]
  },
  {
   "cell_type": "code",
   "execution_count": 10,
   "id": "42c5bc41",
   "metadata": {},
   "outputs": [],
   "source": [
    "con = sqlite3.connect('DBname.db')"
   ]
  },
  {
   "cell_type": "code",
   "execution_count": 11,
   "id": "7a10549c",
   "metadata": {},
   "outputs": [],
   "source": [
    "cur = con.cursor()"
   ]
  },
  {
   "cell_type": "code",
   "execution_count": 12,
   "id": "5029301b",
   "metadata": {},
   "outputs": [
    {
     "data": {
      "text/plain": [
       "[('Маша', 5, '2020-01-01'),\n",
       " ('Петя', 4, '2020-01-01'),\n",
       " ('Вася', 3, '2020-01-01'),\n",
       " ('Саша', 4, '2020-01-01'),\n",
       " ('Маша', 4, '2020-01-02'),\n",
       " ('Петя', 4, '2020-01-02'),\n",
       " ('Вася', 4, '2020-01-02'),\n",
       " ('Саша', 5, '2020-01-02'),\n",
       " ('Маша', 5, '2020-01-03'),\n",
       " ('Петя', 3, '2020-01-03'),\n",
       " ('Вася', 2, '2020-01-03'),\n",
       " ('Саша', 5, '2020-01-03'),\n",
       " ('Маша', 3, '2020-01-04'),\n",
       " ('Петя', 3, '2020-01-04'),\n",
       " ('Вася', 3, '2020-01-04'),\n",
       " ('Саша', 3, '2020-01-04'),\n",
       " ('Максим', 2, '2020-01-04'),\n",
       " ('Маша', 5, '2020-01-05'),\n",
       " ('Петя', 3, '2020-01-05'),\n",
       " ('Вася', 3, '2020-01-05'),\n",
       " ('Саша', 3, '2020-01-05')]"
      ]
     },
     "execution_count": 12,
     "metadata": {},
     "output_type": "execute_result"
    }
   ],
   "source": [
    "cur.execute('SELECT * FROM EmployeePoints').fetchall()"
   ]
  },
  {
   "cell_type": "code",
   "execution_count": 13,
   "id": "4fc4e569",
   "metadata": {},
   "outputs": [
    {
     "data": {
      "text/plain": [
       "[('Маша',), ('Петя',), ('Вася',), ('Саша',), ('Максим',)]"
      ]
     },
     "execution_count": 13,
     "metadata": {},
     "output_type": "execute_result"
    }
   ],
   "source": [
    "cur.execute('SELECT distinct(Employee) FROM EmployeePoints').fetchall()"
   ]
  },
  {
   "cell_type": "code",
   "execution_count": 23,
   "id": "6ea08e66",
   "metadata": {},
   "outputs": [
    {
     "data": {
      "text/plain": [
       "[('Маша', 3), ('Саша', 2)]"
      ]
     },
     "execution_count": 23,
     "metadata": {},
     "output_type": "execute_result"
    }
   ],
   "source": [
    "cur.execute(\"\"\"\n",
    "\n",
    "SELECT Employee, count(Point) \n",
    "FROM EmployeePoints \n",
    "where Point = 5\n",
    "group by Employee\n",
    "order by count(Point) desc\n",
    "\n",
    "\"\"\").fetchall()"
   ]
  },
  {
   "cell_type": "markdown",
   "id": "510c0abe",
   "metadata": {},
   "source": [
    "Finally %)"
   ]
  },
  {
   "cell_type": "code",
   "execution_count": null,
   "id": "f58d7385",
   "metadata": {},
   "outputs": [],
   "source": []
  }
 ],
 "metadata": {
  "kernelspec": {
   "display_name": "Python 3",
   "language": "python",
   "name": "python3"
  },
  "language_info": {
   "codemirror_mode": {
    "name": "ipython",
    "version": 3
   },
   "file_extension": ".py",
   "mimetype": "text/x-python",
   "name": "python",
   "nbconvert_exporter": "python",
   "pygments_lexer": "ipython3",
   "version": "3.8.8"
  }
 },
 "nbformat": 4,
 "nbformat_minor": 5
}
