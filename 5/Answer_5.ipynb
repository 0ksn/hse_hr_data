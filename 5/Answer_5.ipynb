{
 "cells": [
  {
   "cell_type": "markdown",
   "id": "945c8c51",
   "metadata": {},
   "source": [
    "## The Shapiro-Wilk Test For Normality"
   ]
  },
  {
   "cell_type": "code",
   "execution_count": 12,
   "id": "6018cbb0",
   "metadata": {},
   "outputs": [],
   "source": [
    "from scipy import stats\n",
    "import pandas as pd\n",
    "import numpy as np\n",
    "import os"
   ]
  },
  {
   "cell_type": "code",
   "execution_count": 13,
   "id": "76faf5d7",
   "metadata": {},
   "outputs": [
    {
     "data": {
      "text/plain": [
       "'C:\\\\Users\\\\ono'"
      ]
     },
     "execution_count": 13,
     "metadata": {},
     "output_type": "execute_result"
    }
   ],
   "source": [
    "os.getcwd()"
   ]
  },
  {
   "cell_type": "code",
   "execution_count": 15,
   "id": "2c57699f",
   "metadata": {},
   "outputs": [],
   "source": [
    "df_hr = pd.read_csv('train.csv')"
   ]
  },
  {
   "cell_type": "code",
   "execution_count": 23,
   "id": "6c8199a4",
   "metadata": {},
   "outputs": [
    {
     "data": {
      "text/plain": [
       "ShapiroResult(statistic=0.9906249046325684, pvalue=0.7150431275367737)"
      ]
     },
     "execution_count": 23,
     "metadata": {},
     "output_type": "execute_result"
    }
   ],
   "source": [
    "rng = np.random.default_rng()\n",
    "x = stats.norm.rvs(loc=5, scale=3, size=100, random_state=rng)\n",
    "shapiro_test = stats.shapiro(x)\n",
    "shapiro_test"
   ]
  },
  {
   "cell_type": "markdown",
   "id": "f4c70bf5",
   "metadata": {},
   "source": [
    "# Выводы\n",
    "\n",
    "* Статистика: Количество, рассчитанное с помощью теста, которое можно интерпретировать в контексте теста, сравнивая его с критическими значениями из распределения статистики теста.\n",
    "* р-значение: Используется для интерпретации теста, в данном случае, была ли выборка получена из гауссовского распределения. (https://www.machinelearningmastery.ru/a-gentle-introduction-to-normality-tests-in-python/)\n",
    "* Нулевая гипотеза этого теста заключается в том, что совокупность распределена нормально\n",
    "* Нулевая гипотеза отвергается в случае, если p < заданного уровня альфа (если я все правильно помню, 0,05)\n",
    "\n",
    "\n",
    "- Не уверена, можно ли для этого анализа брать всю совокупность данных, или только распредение одного из значений, например 'salary'. Но попробовала на всей таблице\n",
    "- Исходя из результатов - нулевая гипотеза подтверждается, то есть мы имеем дело с нормальным распределением\n",
    "\n",
    "\n"
   ]
  }
 ],
 "metadata": {
  "kernelspec": {
   "display_name": "Python 3",
   "language": "python",
   "name": "python3"
  },
  "language_info": {
   "codemirror_mode": {
    "name": "ipython",
    "version": 3
   },
   "file_extension": ".py",
   "mimetype": "text/x-python",
   "name": "python",
   "nbconvert_exporter": "python",
   "pygments_lexer": "ipython3",
   "version": "3.8.8"
  }
 },
 "nbformat": 4,
 "nbformat_minor": 5
}
